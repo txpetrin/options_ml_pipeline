{
 "cells": [
  {
   "cell_type": "code",
   "execution_count": 23,
   "id": "f14a0d52",
   "metadata": {},
   "outputs": [],
   "source": [
    "import yfinance as yf\n",
    "import pandas as pd\n",
    "import numpy as np\n",
    "from datetime import datetime, timedelta\n",
    "from scipy.stats import norm\n",
    "\n",
    "# === Step 1: Stock Price Retrieval ===\n",
    "def get_stock_data(ticker, start_date, end_date):\n",
    "    df = yf.download(ticker, start=start_date, end=end_date)\n",
    "    df.reset_index(inplace=True)\n",
    "    df = df[['Date', 'Open', 'High', 'Low', 'Close', 'Volume']]\n",
    "    return df\n",
    "\n",
    "\n",
    "# === Step 2: Synthetic Option Generator (Black-Scholes) ===\n",
    "def black_scholes_price(S, K, T, r, sigma, option_type='call'):\n",
    "    if T <= 0 or sigma == 0:\n",
    "        return max(S - K, 0) if option_type == 'call' else max(K - S, 0)\n",
    "    d1 = (np.log(S / K) + (r + 0.5 * sigma**2) * T) / (sigma * np.sqrt(T))\n",
    "    d2 = d1 - sigma * np.sqrt(T)\n",
    "    if option_type == 'call':\n",
    "        return S * norm.cdf(d1) - K * np.exp(-r * T) * norm.cdf(d2)\n",
    "    else:\n",
    "        return K * np.exp(-r * T) * norm.cdf(-d2) - S * norm.cdf(-d1)\n",
    "\n",
    "\n",
    "# === Step 3: Generate Synthetic Historical Options ===\n",
    "def simulate_historical_options(stock_df, strike_offsets=[-0.05, 0, 0.05], dtes=[7, 14], r=0.02, vol_window=20):\n",
    "    \"\"\"\n",
    "    Generate synthetic option contracts for training purposes.\n",
    "    \"\"\"\n",
    "    synthetic_options = []\n",
    "\n",
    "    for idx, row in stock_df.iterrows():\n",
    "        spot = row['Close']\n",
    "        date = row['Date']\n",
    "        vol_window_df = stock_df[stock_df['Date'] <= date].tail(vol_window)\n",
    "        if len(vol_window_df) < vol_window:\n",
    "            continue\n",
    "\n",
    "        daily_returns = vol_window_df['Close'].pct_change().dropna()\n",
    "        sigma = daily_returns.std() * np.sqrt(252)  # annualized\n",
    "        if sigma == 0:\n",
    "            continue\n",
    "\n",
    "        for offset in strike_offsets:\n",
    "            strike = round(spot * (1 + offset), 2)\n",
    "            for dte in dtes:\n",
    "                expiry_date = date + timedelta(days=dte)\n",
    "                if expiry_date not in stock_df['Date'].values:\n",
    "                    continue\n",
    "\n",
    "                T = dte / 365\n",
    "                for option_type in ['call', 'put']:\n",
    "                    premium = black_scholes_price(S=spot, K=strike, T=T, r=r, sigma=sigma, option_type=option_type)\n",
    "                    close_at_expiry = stock_df.loc[stock_df['Date'] == expiry_date, 'Close'].values[0]\n",
    "                    intrinsic = max(close_at_expiry - strike, 0) if option_type == 'call' else max(strike - close_at_expiry, 0)\n",
    "                    profit = intrinsic - premium\n",
    "\n",
    "                    synthetic_options.append({\n",
    "                        'date': date,\n",
    "                        'expiry': expiry_date,\n",
    "                        'spot': spot,\n",
    "                        'strike': strike,\n",
    "                        'option_type': option_type,\n",
    "                        'premium': premium,\n",
    "                        'close_at_expiry': close_at_expiry,\n",
    "                        'profit': profit,\n",
    "                        'label': int(profit > 0),\n",
    "                        'volatility': sigma,\n",
    "                        'dte': dte,\n",
    "                        'offset_pct': offset\n",
    "                    })\n",
    "\n",
    "    return pd.DataFrame(synthetic_options)\n",
    "\n",
    "\n",
    "# === Step 4: Forward-Looking Real Options Chain ===\n",
    "from datetime import datetime\n",
    "\n",
    "def get_live_option_chain(ticker):\n",
    "    \"\"\"\n",
    "    Fetches real options from yfinance for all future expiries starting from today.\n",
    "    This is used for live inference only (not historical training).\n",
    "    \n",
    "    Parameters:\n",
    "    ticker (str): Stock ticker symbol.\n",
    "\n",
    "    Returns:\n",
    "    pd.DataFrame: Combined options data for all future expiry dates.\n",
    "    \"\"\"\n",
    "    stock = yf.Ticker(ticker)\n",
    "    all_expiries = stock.options\n",
    "\n",
    "    if not all_expiries:\n",
    "        print(f\"No option expiries available for {ticker}\")\n",
    "        return pd.DataFrame()\n",
    "\n",
    "    today = datetime.today()\n",
    "\n",
    "    # Filter to include only future expiry dates\n",
    "    filtered_expiries = [\n",
    "        expiry for expiry in all_expiries\n",
    "        if datetime.strptime(expiry, \"%Y-%m-%d\") >= today\n",
    "    ]\n",
    "\n",
    "    options_data_list = []\n",
    "    for expiry in filtered_expiries:\n",
    "        try:\n",
    "            chain = stock.option_chain(expiry)\n",
    "            for label, df in [('call', chain.calls), ('put', chain.puts)]:\n",
    "                if df.empty:\n",
    "                    continue\n",
    "                df = df.copy()\n",
    "                df['option_type'] = label\n",
    "                df['expiry'] = expiry\n",
    "                options_data_list.append(df)\n",
    "        except Exception as e:\n",
    "            print(f\"Error retrieving options for {ticker} on {expiry}: {e}\")\n",
    "\n",
    "    if options_data_list:\n",
    "        return pd.concat(options_data_list, ignore_index=True)\n",
    "    else:\n",
    "        return pd.DataFrame()\n"
   ]
  },
  {
   "cell_type": "code",
   "execution_count": 27,
   "id": "708e53fd",
   "metadata": {},
   "outputs": [
    {
     "name": "stdout",
     "output_type": "stream",
     "text": [
      "           contractSymbol             lastTradeDate  strike  lastPrice  \\\n",
      "2071  AAPL271217P00320000 2025-04-15 18:22:21+00:00   320.0     118.77   \n",
      "2072  AAPL271217P00325000 2025-04-23 14:38:36+00:00   325.0     117.90   \n",
      "2073  AAPL271217P00330000 2025-04-16 19:54:23+00:00   330.0     122.34   \n",
      "2074  AAPL271217P00370000 2025-04-15 16:23:18+00:00   370.0     166.14   \n",
      "2075  AAPL271217P00400000 2025-04-15 17:54:04+00:00   400.0     198.07   \n",
      "\n",
      "         bid    ask     change  percentChange  volume  openInterest  \\\n",
      "2071  109.85  114.0   0.000000       0.000000   171.0             2   \n",
      "2072  114.00  119.0   0.000000       0.000000     2.0             1   \n",
      "2073  119.65  124.0 -12.980011      -9.592086     1.0             0   \n",
      "2074  159.00  164.0   0.000000       0.000000     NaN             0   \n",
      "2075  189.00  194.0   0.000000       0.000000     NaN             0   \n",
      "\n",
      "      impliedVolatility  inTheMoney contractSize currency option_type  \\\n",
      "2071           0.181038        True      REGULAR      USD         put   \n",
      "2072           0.185738        True      REGULAR      USD         put   \n",
      "2073           0.190346        True      REGULAR      USD         put   \n",
      "2074           0.223854        True      REGULAR      USD         put   \n",
      "2075           0.245857        True      REGULAR      USD         put   \n",
      "\n",
      "          expiry  \n",
      "2071  2027-12-17  \n",
      "2072  2027-12-17  \n",
      "2073  2027-12-17  \n",
      "2074  2027-12-17  \n",
      "2075  2027-12-17  \n"
     ]
    }
   ],
   "source": [
    "AAPL = get_live_option_chain('AAPL')\n",
    "print(AAPL.tail())\n"
   ]
  },
  {
   "cell_type": "code",
   "execution_count": 17,
   "id": "fbd58e34",
   "metadata": {},
   "outputs": [
    {
     "name": "stderr",
     "output_type": "stream",
     "text": [
      "[*********************100%***********************]  1 of 1 completed\n"
     ]
    },
    {
     "data": {
      "application/vnd.microsoft.datawrangler.viewer.v0+json": {
       "columns": [
        {
         "name": "Date",
         "rawType": "datetime64[ns]",
         "type": "datetime"
        },
        {
         "name": "('Close', '^VIX')",
         "rawType": "float64",
         "type": "float"
        },
        {
         "name": "('High', '^VIX')",
         "rawType": "float64",
         "type": "float"
        },
        {
         "name": "('Low', '^VIX')",
         "rawType": "float64",
         "type": "float"
        },
        {
         "name": "('Open', '^VIX')",
         "rawType": "float64",
         "type": "float"
        },
        {
         "name": "('Volume', '^VIX')",
         "rawType": "int64",
         "type": "integer"
        }
       ],
       "conversionMethod": "pd.DataFrame",
       "ref": "496dbc6b-af84-4400-ac88-9e734910c595",
       "rows": [
        [
         "2023-01-03 00:00:00",
         "22.899999618530273",
         "23.760000228881836",
         "22.729999542236328",
         "23.09000015258789",
         "0"
        ],
        [
         "2023-01-04 00:00:00",
         "22.010000228881836",
         "23.270000457763672",
         "21.940000534057617",
         "22.93000030517578",
         "0"
        ],
        [
         "2023-01-05 00:00:00",
         "22.459999084472656",
         "22.920000076293945",
         "21.969999313354492",
         "22.200000762939453",
         "0"
        ],
        [
         "2023-01-06 00:00:00",
         "21.1299991607666",
         "22.899999618530273",
         "21.0",
         "22.690000534057617",
         "0"
        ],
        [
         "2023-01-09 00:00:00",
         "21.969999313354492",
         "21.979999542236328",
         "21.270000457763672",
         "21.75",
         "0"
        ],
        [
         "2023-01-10 00:00:00",
         "20.579999923706055",
         "22.459999084472656",
         "20.579999923706055",
         "22.219999313354492",
         "0"
        ],
        [
         "2023-01-11 00:00:00",
         "21.09000015258789",
         "21.25",
         "20.6200008392334",
         "20.799999237060547",
         "0"
        ],
        [
         "2023-01-12 00:00:00",
         "18.829999923706055",
         "21.799999237060547",
         "18.829999923706055",
         "21.559999465942383",
         "0"
        ],
        [
         "2023-01-13 00:00:00",
         "18.350000381469727",
         "19.40999984741211",
         "18.010000228881836",
         "19.0",
         "0"
        ],
        [
         "2023-01-17 00:00:00",
         "19.360000610351562",
         "20.219999313354492",
         "19.209999084472656",
         "19.889999389648438",
         "0"
        ],
        [
         "2023-01-18 00:00:00",
         "20.34000015258789",
         "20.579999923706055",
         "18.709999084472656",
         "19.280000686645508",
         "0"
        ],
        [
         "2023-01-19 00:00:00",
         "20.520000457763672",
         "21.709999084472656",
         "20.170000076293945",
         "20.43000030517578",
         "0"
        ],
        [
         "2023-01-20 00:00:00",
         "19.850000381469727",
         "20.700000762939453",
         "19.40999984741211",
         "20.280000686645508",
         "0"
        ],
        [
         "2023-01-23 00:00:00",
         "19.809999465942383",
         "20.329999923706055",
         "19.549999237060547",
         "20.209999084472656",
         "0"
        ],
        [
         "2023-01-24 00:00:00",
         "19.200000762939453",
         "20.469999313354492",
         "18.90999984741211",
         "19.889999389648438",
         "0"
        ],
        [
         "2023-01-25 00:00:00",
         "19.079999923706055",
         "20.899999618530273",
         "18.989999771118164",
         "19.559999465942383",
         "0"
        ],
        [
         "2023-01-26 00:00:00",
         "18.729999542236328",
         "19.479999542236328",
         "18.670000076293945",
         "19.049999237060547",
         "0"
        ],
        [
         "2023-01-27 00:00:00",
         "18.510000228881836",
         "19.0",
         "17.969999313354492",
         "18.899999618530273",
         "0"
        ],
        [
         "2023-01-30 00:00:00",
         "19.940000534057617",
         "20.25",
         "19.540000915527344",
         "19.760000228881836",
         "0"
        ],
        [
         "2023-01-31 00:00:00",
         "19.399999618530273",
         "20.700000762939453",
         "19.1299991607666",
         "20.1200008392334",
         "0"
        ],
        [
         "2023-02-01 00:00:00",
         "17.8700008392334",
         "20.040000915527344",
         "17.700000762939453",
         "19.6200008392334",
         "0"
        ],
        [
         "2023-02-02 00:00:00",
         "18.729999542236328",
         "19.25",
         "17.059999465942383",
         "17.739999771118164",
         "0"
        ],
        [
         "2023-02-03 00:00:00",
         "18.329999923706055",
         "19.299999237060547",
         "17.93000030517578",
         "18.56999969482422",
         "0"
        ],
        [
         "2023-02-06 00:00:00",
         "19.43000030517578",
         "19.809999465942383",
         "19.209999084472656",
         "19.229999542236328",
         "0"
        ],
        [
         "2023-02-07 00:00:00",
         "18.65999984741211",
         "19.989999771118164",
         "18.43000030517578",
         "19.540000915527344",
         "0"
        ],
        [
         "2023-02-08 00:00:00",
         "19.6299991607666",
         "20.1200008392334",
         "18.549999237060547",
         "18.8799991607666",
         "0"
        ],
        [
         "2023-02-09 00:00:00",
         "20.709999084472656",
         "21.079999923706055",
         "19.020000457763672",
         "19.239999771118164",
         "0"
        ],
        [
         "2023-02-10 00:00:00",
         "20.530000686645508",
         "21.940000534057617",
         "20.440000534057617",
         "20.739999771118164",
         "0"
        ],
        [
         "2023-02-13 00:00:00",
         "20.34000015258789",
         "21.690000534057617",
         "20.329999923706055",
         "21.65999984741211",
         "0"
        ],
        [
         "2023-02-14 00:00:00",
         "18.90999984741211",
         "20.75",
         "18.479999542236328",
         "20.719999313354492",
         "0"
        ],
        [
         "2023-02-15 00:00:00",
         "18.229999542236328",
         "19.40999984741211",
         "18.110000610351562",
         "19.3700008392334",
         "0"
        ],
        [
         "2023-02-16 00:00:00",
         "20.170000076293945",
         "20.270000457763672",
         "18.229999542236328",
         "18.260000228881836",
         "0"
        ],
        [
         "2023-02-17 00:00:00",
         "20.020000457763672",
         "21.299999237060547",
         "19.81999969482422",
         "20.940000534057617",
         "0"
        ],
        [
         "2023-02-21 00:00:00",
         "22.8700008392334",
         "23.34000015258789",
         "21.799999237060547",
         "21.799999237060547",
         "0"
        ],
        [
         "2023-02-22 00:00:00",
         "22.290000915527344",
         "23.6299991607666",
         "22.020000457763672",
         "23.030000686645508",
         "0"
        ],
        [
         "2023-02-23 00:00:00",
         "21.139999389648438",
         "22.43000030517578",
         "20.889999389648438",
         "21.959999084472656",
         "0"
        ],
        [
         "2023-02-24 00:00:00",
         "21.670000076293945",
         "22.899999618530273",
         "21.31999969482422",
         "21.350000381469727",
         "0"
        ],
        [
         "2023-02-27 00:00:00",
         "20.950000762939453",
         "22.020000457763672",
         "20.68000030517578",
         "21.989999771118164",
         "0"
        ],
        [
         "2023-02-28 00:00:00",
         "20.700000762939453",
         "21.3700008392334",
         "20.100000381469727",
         "21.299999237060547",
         "0"
        ],
        [
         "2023-03-01 00:00:00",
         "20.579999923706055",
         "21.31999969482422",
         "20.219999313354492",
         "20.389999389648438",
         "0"
        ],
        [
         "2023-03-02 00:00:00",
         "19.59000015258789",
         "21.420000076293945",
         "19.549999237060547",
         "21.40999984741211",
         "0"
        ],
        [
         "2023-03-03 00:00:00",
         "18.489999771118164",
         "19.760000228881836",
         "18.15999984741211",
         "19.760000228881836",
         "0"
        ],
        [
         "2023-03-06 00:00:00",
         "18.610000610351562",
         "19.190000534057617",
         "18.489999771118164",
         "19.049999237060547",
         "0"
        ],
        [
         "2023-03-07 00:00:00",
         "19.59000015258789",
         "19.739999771118164",
         "18.510000228881836",
         "18.639999389648438",
         "0"
        ],
        [
         "2023-03-08 00:00:00",
         "19.110000610351562",
         "20.010000228881836",
         "19.0",
         "19.709999084472656",
         "0"
        ],
        [
         "2023-03-09 00:00:00",
         "22.610000610351562",
         "23.139999389648438",
         "18.8799991607666",
         "19.329999923706055",
         "0"
        ],
        [
         "2023-03-10 00:00:00",
         "24.799999237060547",
         "28.969999313354492",
         "21.790000915527344",
         "23.34000015258789",
         "0"
        ],
        [
         "2023-03-13 00:00:00",
         "26.520000457763672",
         "30.809999465942383",
         "23.850000381469727",
         "24.049999237060547",
         "0"
        ],
        [
         "2023-03-14 00:00:00",
         "23.729999542236328",
         "27.239999771118164",
         "22.270000457763672",
         "26.850000381469727",
         "0"
        ],
        [
         "2023-03-15 00:00:00",
         "26.139999389648438",
         "29.90999984741211",
         "23.190000534057617",
         "23.209999084472656",
         "0"
        ]
       ],
       "shape": {
        "columns": 5,
        "rows": 250
       }
      },
      "text/html": [
       "<div>\n",
       "<style scoped>\n",
       "    .dataframe tbody tr th:only-of-type {\n",
       "        vertical-align: middle;\n",
       "    }\n",
       "\n",
       "    .dataframe tbody tr th {\n",
       "        vertical-align: top;\n",
       "    }\n",
       "\n",
       "    .dataframe thead tr th {\n",
       "        text-align: left;\n",
       "    }\n",
       "\n",
       "    .dataframe thead tr:last-of-type th {\n",
       "        text-align: right;\n",
       "    }\n",
       "</style>\n",
       "<table border=\"1\" class=\"dataframe\">\n",
       "  <thead>\n",
       "    <tr>\n",
       "      <th>Price</th>\n",
       "      <th>Close</th>\n",
       "      <th>High</th>\n",
       "      <th>Low</th>\n",
       "      <th>Open</th>\n",
       "      <th>Volume</th>\n",
       "    </tr>\n",
       "    <tr>\n",
       "      <th>Ticker</th>\n",
       "      <th>^VIX</th>\n",
       "      <th>^VIX</th>\n",
       "      <th>^VIX</th>\n",
       "      <th>^VIX</th>\n",
       "      <th>^VIX</th>\n",
       "    </tr>\n",
       "    <tr>\n",
       "      <th>Date</th>\n",
       "      <th></th>\n",
       "      <th></th>\n",
       "      <th></th>\n",
       "      <th></th>\n",
       "      <th></th>\n",
       "    </tr>\n",
       "  </thead>\n",
       "  <tbody>\n",
       "    <tr>\n",
       "      <th>2023-01-03</th>\n",
       "      <td>22.900000</td>\n",
       "      <td>23.76</td>\n",
       "      <td>22.730000</td>\n",
       "      <td>23.090000</td>\n",
       "      <td>0</td>\n",
       "    </tr>\n",
       "    <tr>\n",
       "      <th>2023-01-04</th>\n",
       "      <td>22.010000</td>\n",
       "      <td>23.27</td>\n",
       "      <td>21.940001</td>\n",
       "      <td>22.930000</td>\n",
       "      <td>0</td>\n",
       "    </tr>\n",
       "    <tr>\n",
       "      <th>2023-01-05</th>\n",
       "      <td>22.459999</td>\n",
       "      <td>22.92</td>\n",
       "      <td>21.969999</td>\n",
       "      <td>22.200001</td>\n",
       "      <td>0</td>\n",
       "    </tr>\n",
       "    <tr>\n",
       "      <th>2023-01-06</th>\n",
       "      <td>21.129999</td>\n",
       "      <td>22.90</td>\n",
       "      <td>21.000000</td>\n",
       "      <td>22.690001</td>\n",
       "      <td>0</td>\n",
       "    </tr>\n",
       "    <tr>\n",
       "      <th>2023-01-09</th>\n",
       "      <td>21.969999</td>\n",
       "      <td>21.98</td>\n",
       "      <td>21.270000</td>\n",
       "      <td>21.750000</td>\n",
       "      <td>0</td>\n",
       "    </tr>\n",
       "    <tr>\n",
       "      <th>...</th>\n",
       "      <td>...</td>\n",
       "      <td>...</td>\n",
       "      <td>...</td>\n",
       "      <td>...</td>\n",
       "      <td>...</td>\n",
       "    </tr>\n",
       "    <tr>\n",
       "      <th>2023-12-22</th>\n",
       "      <td>13.030000</td>\n",
       "      <td>13.96</td>\n",
       "      <td>13.000000</td>\n",
       "      <td>13.720000</td>\n",
       "      <td>0</td>\n",
       "    </tr>\n",
       "    <tr>\n",
       "      <th>2023-12-26</th>\n",
       "      <td>12.990000</td>\n",
       "      <td>13.80</td>\n",
       "      <td>12.960000</td>\n",
       "      <td>13.770000</td>\n",
       "      <td>0</td>\n",
       "    </tr>\n",
       "    <tr>\n",
       "      <th>2023-12-27</th>\n",
       "      <td>12.430000</td>\n",
       "      <td>13.04</td>\n",
       "      <td>12.370000</td>\n",
       "      <td>13.020000</td>\n",
       "      <td>0</td>\n",
       "    </tr>\n",
       "    <tr>\n",
       "      <th>2023-12-28</th>\n",
       "      <td>12.470000</td>\n",
       "      <td>12.65</td>\n",
       "      <td>12.380000</td>\n",
       "      <td>12.440000</td>\n",
       "      <td>0</td>\n",
       "    </tr>\n",
       "    <tr>\n",
       "      <th>2023-12-29</th>\n",
       "      <td>12.450000</td>\n",
       "      <td>13.19</td>\n",
       "      <td>12.360000</td>\n",
       "      <td>12.550000</td>\n",
       "      <td>0</td>\n",
       "    </tr>\n",
       "  </tbody>\n",
       "</table>\n",
       "<p>250 rows × 5 columns</p>\n",
       "</div>"
      ],
      "text/plain": [
       "Price           Close   High        Low       Open Volume\n",
       "Ticker           ^VIX   ^VIX       ^VIX       ^VIX   ^VIX\n",
       "Date                                                     \n",
       "2023-01-03  22.900000  23.76  22.730000  23.090000      0\n",
       "2023-01-04  22.010000  23.27  21.940001  22.930000      0\n",
       "2023-01-05  22.459999  22.92  21.969999  22.200001      0\n",
       "2023-01-06  21.129999  22.90  21.000000  22.690001      0\n",
       "2023-01-09  21.969999  21.98  21.270000  21.750000      0\n",
       "...               ...    ...        ...        ...    ...\n",
       "2023-12-22  13.030000  13.96  13.000000  13.720000      0\n",
       "2023-12-26  12.990000  13.80  12.960000  13.770000      0\n",
       "2023-12-27  12.430000  13.04  12.370000  13.020000      0\n",
       "2023-12-28  12.470000  12.65  12.380000  12.440000      0\n",
       "2023-12-29  12.450000  13.19  12.360000  12.550000      0\n",
       "\n",
       "[250 rows x 5 columns]"
      ]
     },
     "execution_count": 17,
     "metadata": {},
     "output_type": "execute_result"
    }
   ],
   "source": [
    "vix = yf.download(\"^VIX\", start=\"2023-01-01\", end=\"2023-12-31\")\n",
    "vix"
   ]
  },
  {
   "cell_type": "code",
   "execution_count": 19,
   "id": "66d91f7d",
   "metadata": {},
   "outputs": [
    {
     "ename": "KeyError",
     "evalue": "'Close'",
     "output_type": "error",
     "traceback": [
      "\u001b[1;31m---------------------------------------------------------------------------\u001b[0m",
      "\u001b[1;31mKeyError\u001b[0m                                  Traceback (most recent call last)",
      "Cell \u001b[1;32mIn[19], line 2\u001b[0m\n\u001b[0;32m      1\u001b[0m \u001b[38;5;28;01mfrom\u001b[39;00m \u001b[38;5;21;01march\u001b[39;00m \u001b[38;5;28;01mimport\u001b[39;00m arch_model\n\u001b[1;32m----> 2\u001b[0m returns \u001b[38;5;241m=\u001b[39m \u001b[43mdf\u001b[49m\u001b[43m[\u001b[49m\u001b[38;5;124;43m'\u001b[39;49m\u001b[38;5;124;43mClose\u001b[39;49m\u001b[38;5;124;43m'\u001b[39;49m\u001b[43m]\u001b[49m\u001b[38;5;241m.\u001b[39mpct_change()\u001b[38;5;241m.\u001b[39mdropna() \u001b[38;5;241m*\u001b[39m \u001b[38;5;241m100\u001b[39m\n\u001b[0;32m      3\u001b[0m model \u001b[38;5;241m=\u001b[39m arch_model(returns, vol\u001b[38;5;241m=\u001b[39m\u001b[38;5;124m'\u001b[39m\u001b[38;5;124mGARCH\u001b[39m\u001b[38;5;124m'\u001b[39m, p\u001b[38;5;241m=\u001b[39m\u001b[38;5;241m1\u001b[39m, q\u001b[38;5;241m=\u001b[39m\u001b[38;5;241m1\u001b[39m)\n\u001b[0;32m      4\u001b[0m res \u001b[38;5;241m=\u001b[39m model\u001b[38;5;241m.\u001b[39mfit(disp\u001b[38;5;241m=\u001b[39m\u001b[38;5;124m'\u001b[39m\u001b[38;5;124moff\u001b[39m\u001b[38;5;124m'\u001b[39m)\n",
      "File \u001b[1;32m~\\AppData\\Local\\Packages\\PythonSoftwareFoundation.Python.3.12_qbz5n2kfra8p0\\LocalCache\\local-packages\\Python312\\site-packages\\pandas\\core\\frame.py:4102\u001b[0m, in \u001b[0;36mDataFrame.__getitem__\u001b[1;34m(self, key)\u001b[0m\n\u001b[0;32m   4100\u001b[0m \u001b[38;5;28;01mif\u001b[39;00m \u001b[38;5;28mself\u001b[39m\u001b[38;5;241m.\u001b[39mcolumns\u001b[38;5;241m.\u001b[39mnlevels \u001b[38;5;241m>\u001b[39m \u001b[38;5;241m1\u001b[39m:\n\u001b[0;32m   4101\u001b[0m     \u001b[38;5;28;01mreturn\u001b[39;00m \u001b[38;5;28mself\u001b[39m\u001b[38;5;241m.\u001b[39m_getitem_multilevel(key)\n\u001b[1;32m-> 4102\u001b[0m indexer \u001b[38;5;241m=\u001b[39m \u001b[38;5;28;43mself\u001b[39;49m\u001b[38;5;241;43m.\u001b[39;49m\u001b[43mcolumns\u001b[49m\u001b[38;5;241;43m.\u001b[39;49m\u001b[43mget_loc\u001b[49m\u001b[43m(\u001b[49m\u001b[43mkey\u001b[49m\u001b[43m)\u001b[49m\n\u001b[0;32m   4103\u001b[0m \u001b[38;5;28;01mif\u001b[39;00m is_integer(indexer):\n\u001b[0;32m   4104\u001b[0m     indexer \u001b[38;5;241m=\u001b[39m [indexer]\n",
      "File \u001b[1;32m~\\AppData\\Local\\Packages\\PythonSoftwareFoundation.Python.3.12_qbz5n2kfra8p0\\LocalCache\\local-packages\\Python312\\site-packages\\pandas\\core\\indexes\\range.py:417\u001b[0m, in \u001b[0;36mRangeIndex.get_loc\u001b[1;34m(self, key)\u001b[0m\n\u001b[0;32m    415\u001b[0m         \u001b[38;5;28;01mraise\u001b[39;00m \u001b[38;5;167;01mKeyError\u001b[39;00m(key) \u001b[38;5;28;01mfrom\u001b[39;00m \u001b[38;5;21;01merr\u001b[39;00m\n\u001b[0;32m    416\u001b[0m \u001b[38;5;28;01mif\u001b[39;00m \u001b[38;5;28misinstance\u001b[39m(key, Hashable):\n\u001b[1;32m--> 417\u001b[0m     \u001b[38;5;28;01mraise\u001b[39;00m \u001b[38;5;167;01mKeyError\u001b[39;00m(key)\n\u001b[0;32m    418\u001b[0m \u001b[38;5;28mself\u001b[39m\u001b[38;5;241m.\u001b[39m_check_indexing_error(key)\n\u001b[0;32m    419\u001b[0m \u001b[38;5;28;01mraise\u001b[39;00m \u001b[38;5;167;01mKeyError\u001b[39;00m(key)\n",
      "\u001b[1;31mKeyError\u001b[0m: 'Close'"
     ]
    }
   ],
   "source": [
    "from arch import arch_model\n",
    "returns = df['Close'].pct_change().dropna() * 100\n",
    "model = arch_model(returns, vol='GARCH', p=1, q=1)\n",
    "res = model.fit(disp='off')\n",
    "vol_forecast = res.forecast(horizon=5).variance[-1:]\n"
   ]
  },
  {
   "cell_type": "code",
   "execution_count": null,
   "id": "1c4c89ad",
   "metadata": {},
   "outputs": [],
   "source": []
  }
 ],
 "metadata": {
  "kernelspec": {
   "display_name": "options",
   "language": "python",
   "name": "python3"
  },
  "language_info": {
   "codemirror_mode": {
    "name": "ipython",
    "version": 3
   },
   "file_extension": ".py",
   "mimetype": "text/x-python",
   "name": "python",
   "nbconvert_exporter": "python",
   "pygments_lexer": "ipython3",
   "version": "3.12.9"
  }
 },
 "nbformat": 4,
 "nbformat_minor": 5
}
